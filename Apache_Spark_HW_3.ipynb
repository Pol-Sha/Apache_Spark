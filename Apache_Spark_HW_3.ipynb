{
  "nbformat": 4,
  "nbformat_minor": 0,
  "metadata": {
    "colab": {
      "provenance": []
    },
    "kernelspec": {
      "name": "python3",
      "display_name": "Python 3"
    },
    "language_info": {
      "name": "python"
    }
  },
  "cells": [
    {
      "cell_type": "markdown",
      "source": [
        "Условие: есть набор данных о продажах продуктов с информацией о дате продаж, категории продукта, количестве и выручке от продаж.\n",
        "\n",
        "Используя Apache Spark, загрузите предоставленный набор данных в DataFrame (пример данных ниже).\n",
        "\n",
        "(\"2023-11-20\", \"Electronics\", 100, 12000),<br>\n",
        "(\"2023-11-21\", \"Electronics\", 110, 13000),<br>\n",
        "(\"2023-11-22\", \"Electronics\", 105, 12500),<br>\n",
        "(\"2023-11-20\", \"Clothing\", 300, 15000),<br>\n",
        "(\"2023-11-21\", \"Clothing\", 280, 14000),<br>\n",
        "(\"2023-11-22\", \"Clothing\", 320, 16000),<br>\n",
        "(\"2023-11-20\", \"Books\", 150, 9000),<br>\n",
        "(\"2023-11-21\", \"Books\", 200, 12000),<br>\n",
        "(\"2023-11-22\", \"Books\", 180, 10000)<br>\n",
        "\n",
        "Столбцы: \"date\", \"category\", \"quantity\", \"revenue\".\n",
        "\n",
        "С использованием оконных функций, рассчитайте среднее выручки от продаж для каждой категории продукта.\n",
        "Примените операцию pivot для того, чтобы преобразовать полученные данные таким образом, чтобы в качестве строк были категории продуктов, в качестве столбцов были дни, а значениями были средние значения выручки от продаж за соответствующий день\n",
        "\n"
      ],
      "metadata": {
        "id": "acdd7TcG1Bjm"
      }
    },
    {
      "cell_type": "code",
      "execution_count": null,
      "metadata": {
        "id": "uWJxYwV20zb2"
      },
      "outputs": [],
      "source": [
        "from pyspark.sql import SparkSession\n",
        "from pyspark.sql.window import Window\n",
        "import pyspark.sql.functions as fn\n",
        "from pyspark.sql.types import DoubleType"
      ]
    },
    {
      "cell_type": "code",
      "source": [
        "# Создание Spark сессии\n",
        "spark = SparkSession.builder.appName(\"Homework4\").getOrCreate()\n",
        "\n",
        "# Берем исходные данные\n",
        "data = [(\"2023-11-20\", \"Electronics\", 100, 12000),\n",
        "        (\"2023-11-21\", \"Electronics\", 110, 13000),\n",
        "        (\"2023-11-22\", \"Electronics\", 105, 12500),\n",
        "        (\"2023-11-20\", \"Clothing\", 300, 15000),\n",
        "        (\"2023-11-21\", \"Clothing\", 280, 14000),\n",
        "        (\"2023-11-22\", \"Clothing\", 320, 16000),\n",
        "        (\"2023-11-20\", \"Books\", 150, 9000),\n",
        "        (\"2023-11-21\", \"Books\", 200, 12000),\n",
        "        (\"2023-11-22\", \"Books\", 180, 10000)]"
      ],
      "metadata": {
        "id": "Xm3gUls-1kaD"
      },
      "execution_count": null,
      "outputs": []
    },
    {
      "cell_type": "code",
      "source": [
        "# Создаем DataFrame с наименование столбцов\n",
        "head = [\"date\", \"category\", \"quantity\", \"revenue\"]\n",
        "df = spark.createDataFrame(data, head)\n",
        "\n"
      ],
      "metadata": {
        "id": "435Cgv-Z12Ir"
      },
      "execution_count": null,
      "outputs": []
    },
    {
      "cell_type": "code",
      "source": [
        "# Преобразуем поле date в тип данных DateType для работы с датами\n",
        "df = df.withColumn(\"date\", fn.to_date(\"date\"))\n",
        "\n"
      ],
      "metadata": {
        "id": "J5xj3z1616u4"
      },
      "execution_count": null,
      "outputs": []
    },
    {
      "cell_type": "code",
      "source": [
        "# Определяем оконную партицию\n",
        "window_part = Window.partitionBy(\"category\")\n",
        "\n"
      ],
      "metadata": {
        "id": "IYxIdMXJ2R20"
      },
      "execution_count": null,
      "outputs": []
    },
    {
      "cell_type": "code",
      "source": [
        "# Оконная функция: вычисление средней выручки от продаж для каждой категории продукта\n",
        "avg_revenue = fn.avg(\"revenue\").over(window_part)\n",
        "\n"
      ],
      "metadata": {
        "id": "zDtiXAPG2e0w"
      },
      "execution_count": null,
      "outputs": []
    },
    {
      "cell_type": "code",
      "source": [
        "# Применение оконной функции и приведение к double\n",
        "result_df = df.withColumn(\"avg_revenue\", avg_revenue.cast(DoubleType()))\n",
        "\n"
      ],
      "metadata": {
        "id": "VauhmsXY2qPq"
      },
      "execution_count": null,
      "outputs": []
    },
    {
      "cell_type": "code",
      "source": [
        "# исключаем повторы, используя функцию  distinct()\n",
        "result_df.select([\"category\", \"avg_revenue\"]).distinct().show()"
      ],
      "metadata": {
        "colab": {
          "base_uri": "https://localhost:8080/"
        },
        "id": "gfnXz-aT2yDP",
        "outputId": "95c018c0-9982-4378-9ac9-c739b2b1e4d5"
      },
      "execution_count": null,
      "outputs": [
        {
          "output_type": "stream",
          "name": "stdout",
          "text": [
            "+-----------+------------------+\n",
            "|   category|       avg_revenue|\n",
            "+-----------+------------------+\n",
            "|      Books|10333.333333333334|\n",
            "|   Clothing|           15000.0|\n",
            "|Electronics|           12500.0|\n",
            "+-----------+------------------+\n",
            "\n"
          ]
        }
      ]
    },
    {
      "cell_type": "code",
      "source": [
        "# С помощью функции pivot перевернем значения ( из строки в столбец). Найдем средние значения выручки от продаж по категориям по датам\n",
        "pivot_df = df.groupBy(\"category\").pivot(\"date\").agg(fn.avg(\"revenue\")).orderBy(\"category\")\n",
        "\n",
        "# Вывод результатов\n",
        "pivot_df.show()"
      ],
      "metadata": {
        "colab": {
          "base_uri": "https://localhost:8080/"
        },
        "id": "TC-8UgMC4EFF",
        "outputId": "4ec86ec4-e1be-4b70-fc0f-eea076909e13"
      },
      "execution_count": null,
      "outputs": [
        {
          "output_type": "stream",
          "name": "stdout",
          "text": [
            "+-----------+----------+----------+----------+\n",
            "|   category|2023-11-20|2023-11-21|2023-11-22|\n",
            "+-----------+----------+----------+----------+\n",
            "|      Books|    9000.0|   12000.0|   10000.0|\n",
            "|   Clothing|   15000.0|   14000.0|   16000.0|\n",
            "|Electronics|   12000.0|   13000.0|   12500.0|\n",
            "+-----------+----------+----------+----------+\n",
            "\n"
          ]
        }
      ]
    }
  ]
}