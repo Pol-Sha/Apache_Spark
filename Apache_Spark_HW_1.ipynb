{
  "nbformat": 4,
  "nbformat_minor": 0,
  "metadata": {
    "colab": {
      "provenance": []
    },
    "kernelspec": {
      "name": "python3",
      "display_name": "Python 3"
    },
    "language_info": {
      "name": "python"
    }
  },
  "cells": [
    {
      "cell_type": "code",
      "execution_count": null,
      "metadata": {
        "colab": {
          "base_uri": "https://localhost:8080/"
        },
        "id": "ace6VmiKolqn",
        "outputId": "349c4128-ba69-40e4-8619-2e182a4398b8"
      },
      "outputs": [
        {
          "output_type": "stream",
          "name": "stdout",
          "text": [
            "Requirement already satisfied: pyspark in /usr/local/lib/python3.10/dist-packages (3.5.3)\n",
            "Requirement already satisfied: py4j==0.10.9.7 in /usr/local/lib/python3.10/dist-packages (from pyspark) (0.10.9.7)\n"
          ]
        }
      ],
      "source": [
        "!pip install pyspark"
      ]
    },
    {
      "cell_type": "code",
      "source": [
        "import pyspark\n",
        "from pyspark import SparkContext\n",
        "from pyspark.sql import SparkSession"
      ],
      "metadata": {
        "id": "Ur0AzMiRo2i7"
      },
      "execution_count": null,
      "outputs": []
    },
    {
      "cell_type": "markdown",
      "source": [
        "Найти самую длинную последовательность упорядоченных чисел в RDD и вывести её."
      ],
      "metadata": {
        "id": "ZJxb7g7KpcrU"
      }
    },
    {
      "cell_type": "code",
      "source": [
        "# разбиение данных на упорядоченные последовательности\n",
        "data = [3, 4, 5, 1, 2, 3, 4, 5, 6, 8, 10, 11, 12, 15, 16, 17]\n",
        "my_list = []\n",
        "num_1 = [data[0]]\n",
        "for item in data[1:]:\n",
        "  if item >=num_1[-1]:\n",
        "    num_1.append(item)\n",
        "  else:\n",
        "    my_list.append(num_1)\n",
        "    num_1 = [item]\n",
        "\n",
        "print(my_list)\n"
      ],
      "metadata": {
        "colab": {
          "base_uri": "https://localhost:8080/"
        },
        "id": "ZtrU9lsVo2Fp",
        "outputId": "7c7e5e9d-33ac-4d83-eec2-03688886ccb1"
      },
      "execution_count": null,
      "outputs": [
        {
          "output_type": "stream",
          "name": "stdout",
          "text": [
            "[[3, 4, 5]]\n"
          ]
        }
      ]
    },
    {
      "cell_type": "code",
      "source": [
        "# поиск последовательности максимальной длины\n",
        "sc = SparkContext(\"local\", \"Longest\")\n",
        "rdd = sc.parallelize(my_list)\n",
        "longest = rdd.max(key=lambda x: len(x))\n",
        "print(longest)\n",
        "\n",
        "sc.stop()"
      ],
      "metadata": {
        "id": "gdRf3GH4qrlh",
        "colab": {
          "base_uri": "https://localhost:8080/"
        },
        "outputId": "d92d35d0-6ccd-4d3b-e295-4b14c176c398"
      },
      "execution_count": null,
      "outputs": [
        {
          "output_type": "stream",
          "name": "stdout",
          "text": [
            "[3, 4, 5]\n"
          ]
        }
      ]
    }
  ]
}